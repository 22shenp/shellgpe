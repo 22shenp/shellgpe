{
 "cells": [
  {
   "cell_type": "code",
   "execution_count": 15,
   "id": "434d9a6a",
   "metadata": {},
   "outputs": [
    {
     "name": "stdout",
     "output_type": "stream",
     "text": [
      "Interpolated mu and N values saved to 'interpolated_mu_and_N_values.txt'\n",
      "Interpolated mu for N_target = 50000: mu = 177.9212326340593\n"
     ]
    }
   ],
   "source": [
    "import numpy as np\n",
    "from scipy.integrate import quad\n",
    "from scipy.interpolate import interp1d\n",
    "\n",
    "# Import functions from sphericaltf.py (or define them in the notebook if already present)\n",
    "from sphericaltffunctions import *\n",
    "\n",
    "# Constants\n",
    "U0 = 1.0  # Scaling constant\n",
    "hw = 1.0  # Constant involving hbar and frequency\n",
    "s = 1.0  # Length scaling factor\n",
    "delta = 0.5  # Trap parameter\n",
    "omega = 0.3  # Trap parameter\n",
    "dim = 2  # Number of dimensions in the BEC, for metric factor in integration\n",
    "\n",
    "# Generate a range of mu values\n",
    "mu_min, mu_max = 0.1, 200.0\n",
    "num_points = 100\n",
    "mu_values = np.linspace(mu_min, mu_max, num_points)\n",
    "\n",
    "# Compute N(mu) for each mu\n",
    "N_values = [N_mu(mu, s, delta, omega, U0, dim, hw) for mu in mu_values]\n",
    "\n",
    "# Combine N and mu values into a 2D array\n",
    "data = np.column_stack((N_values, mu_values))\n",
    "\n",
    "# Save the results to a text file\n",
    "np.savetxt(\"interpolated_mu_and_N_values.txt\", data, header=\"N(mu)      mu\", fmt=\"%.6e\")\n",
    "print(\"Interpolated mu and N values saved to 'interpolated_mu_and_N_values.txt'\")\n",
    "\n",
    "# Test the interpolation function\n",
    "N_target = 50000\n",
    "mu_interpolated = interpolate_from_file(\"interpolated_mu_and_N_values.txt\", N_target)\n",
    "print(f\"Interpolated mu for N_target = {N_target}: mu = {mu_interpolated}\")"
   ]
  },
  {
   "cell_type": "code",
   "execution_count": null,
   "id": "a0e1512f",
   "metadata": {},
   "outputs": [],
   "source": []
  },
  {
   "cell_type": "code",
   "execution_count": null,
   "id": "de46c6af",
   "metadata": {},
   "outputs": [],
   "source": []
  }
 ],
 "metadata": {
  "kernelspec": {
   "display_name": "Python 3 (ipykernel)",
   "language": "python",
   "name": "python3"
  },
  "language_info": {
   "codemirror_mode": {
    "name": "ipython",
    "version": 3
   },
   "file_extension": ".py",
   "mimetype": "text/x-python",
   "name": "python",
   "nbconvert_exporter": "python",
   "pygments_lexer": "ipython3",
   "version": "3.11.7"
  }
 },
 "nbformat": 4,
 "nbformat_minor": 5
}
